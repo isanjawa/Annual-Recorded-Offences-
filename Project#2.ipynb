{
 "cells": [
  {
   "cell_type": "markdown",
   "metadata": {},
   "source": [
    "### Project # 2"
   ]
  },
  {
   "cell_type": "markdown",
   "metadata": {},
   "source": [
    "### Project#2 Proposal\n",
    "\n",
    "-Describe how the data source was discovered:\n",
    "  For this project, I google a dataset.\n",
    "\n",
    "Title:\n",
    "Annual Recorded Offences for the latest Fiscal Years (ANZSOC) \n",
    "\n",
    "webpage:\n",
    "http://nzdotstat.stats.govt.nz/wbos/Index.aspx?_ga=2.98448479.1378805044.1584989607-1790723232.1584989607\n",
    "\n",
    "-Data is free to download?  Yes\n",
    "\n",
    "-Data is legal to access?   Yes\n",
    "\n",
    "-Public: This dataset is intended for public access and use.\n",
    "\n",
    "-Documented Exploratory Data Analysis is not available for the data:\n",
    " \n",
    "  I didn’t find any data analysis of this data set. \n",
    "\n",
    "-Project proposal include size of data (rows, columns, megabytes): Yes\n",
    "\n",
    "\n",
    "-Project proposal relevant to Data 601 objectives:\n",
    "\n",
    "   Yes, the project proposal is relevant for Data 601. With this data set, I will be doing characterization, I will be able to transform data into useful information, create visualization by producing graphs to show the trend of crimes through the years in New Zeeland.\n",
    "\n",
    "-Does student understand the stories in the data?\n",
    " \n",
    " The data is about crimes records in New Zeeland\n",
    "\n",
    "-Data size: 1,171 KB\n",
    "\n",
    "-Questions to be investigated\n",
    "\n",
    "Hypothesis#1:\n",
    "Theft and related offenses are around 30% of the total offenses.\n",
    "\n",
    "Hypothesis#2:\n",
    "A decrease of about 1% of the total offenses in the last years."
   ]
  },
  {
   "cell_type": "markdown",
   "metadata": {},
   "source": [
    "### References:\n",
    "-Class' notes.\n",
    "\n",
    "-Class' Assigments.\n",
    "\n",
    "-#https://stackoverflow.com/questions/18458734/how-do-i-plot-list-of-tuples-in-python\n"
   ]
  },
  {
   "cell_type": "markdown",
   "metadata": {},
   "source": [
    "### Questions to be investigated.\n",
    "#### Hypothesis#1: Theft and related offenses are around 30% of the total offenses.\n",
    "\n",
    "YES, This hypothesis comes out true, as Theft and related offenses were all around 30% of the total offense.\n",
    "\n",
    "#### Hypothesis#2: A decrease of about 1% of the total offenses in the last years.\n",
    "\n",
    "NO, This hypothesis was not wholly verified; it's true that we have a decrease in the total number of offenses through the last years\n",
    "(I chose to work on the five last years). But the reductions were higher than the 1% hypothesized at the beginning."
   ]
  },
  {
   "cell_type": "code",
   "execution_count": 1,
   "metadata": {},
   "outputs": [
    {
     "name": "stdout",
     "output_type": "stream",
     "text": [
      "pandas 0.24.2\n"
     ]
    }
   ],
   "source": [
    "import pandas\n",
    "print('pandas',pandas.__version__)\n",
    "import numpy as np\n",
    "import pandas as pd\n",
    "import csv\n",
    "import time\n",
    "import datetime\n",
    "import re\n",
    "import math\n",
    "import matplotlib.pyplot as plt\n",
    "import seaborn as sns"
   ]
  },
  {
   "cell_type": "code",
   "execution_count": 2,
   "metadata": {},
   "outputs": [
    {
     "name": "stdout",
     "output_type": "stream",
     "text": [
      "Elapsed time: 0.06 seconds\n"
     ]
    },
    {
     "data": {
      "text/plain": [
       "(8320, 12)"
      ]
     },
     "execution_count": 2,
     "metadata": {},
     "output_type": "execute_result"
    }
   ],
   "source": [
    "start_time = time.time()\n",
    "\n",
    "df = pandas.read_csv('TABLECODE7401_Data_Project_2.csv') # read the file\n",
    "print('Elapsed time:', round(time.time() - start_time, 2), 'seconds')\n",
    "\n",
    "df.shape"
   ]
  },
  {
   "cell_type": "code",
   "execution_count": 3,
   "metadata": {},
   "outputs": [
    {
     "data": {
      "text/html": [
       "<div>\n",
       "<style scoped>\n",
       "    .dataframe tbody tr th:only-of-type {\n",
       "        vertical-align: middle;\n",
       "    }\n",
       "\n",
       "    .dataframe tbody tr th {\n",
       "        vertical-align: top;\n",
       "    }\n",
       "\n",
       "    .dataframe thead th {\n",
       "        text-align: right;\n",
       "    }\n",
       "</style>\n",
       "<table border=\"1\" class=\"dataframe\">\n",
       "  <thead>\n",
       "    <tr style=\"text-align: right;\">\n",
       "      <th></th>\n",
       "      <th>LOCATION</th>\n",
       "      <th>Location</th>\n",
       "      <th>OFFENCE</th>\n",
       "      <th>Offence</th>\n",
       "      <th>SCENE</th>\n",
       "      <th>Scene</th>\n",
       "      <th>YEAR</th>\n",
       "      <th>Year</th>\n",
       "      <th>MEASURE</th>\n",
       "      <th>Measure</th>\n",
       "      <th>Value</th>\n",
       "      <th>Flags</th>\n",
       "    </tr>\n",
       "  </thead>\n",
       "  <tbody>\n",
       "    <tr>\n",
       "      <th>3681</th>\n",
       "      <td>DC</td>\n",
       "      <td>Bay Of Plenty District</td>\n",
       "      <td>08</td>\n",
       "      <td>Theft and related offences</td>\n",
       "      <td>Z</td>\n",
       "      <td>Total Scene</td>\n",
       "      <td>1996</td>\n",
       "      <td>YE 30 June 1996</td>\n",
       "      <td>RESOLVED</td>\n",
       "      <td>Resolved</td>\n",
       "      <td>3380</td>\n",
       "      <td>NaN</td>\n",
       "    </tr>\n",
       "    <tr>\n",
       "      <th>8053</th>\n",
       "      <td>ZZ</td>\n",
       "      <td>Total New Zealand</td>\n",
       "      <td>02</td>\n",
       "      <td>Acts intended to cause injury</td>\n",
       "      <td>Z</td>\n",
       "      <td>Total Scene</td>\n",
       "      <td>2008</td>\n",
       "      <td>YE 30 June 2008</td>\n",
       "      <td>RESOLVED</td>\n",
       "      <td>Resolved</td>\n",
       "      <td>34817</td>\n",
       "      <td>NaN</td>\n",
       "    </tr>\n",
       "    <tr>\n",
       "      <th>4283</th>\n",
       "      <td>DE</td>\n",
       "      <td>Eastern District</td>\n",
       "      <td>05</td>\n",
       "      <td>Abduction, harassment and other related offenc...</td>\n",
       "      <td>Z</td>\n",
       "      <td>Total Scene</td>\n",
       "      <td>2001</td>\n",
       "      <td>YE 30 June 2001</td>\n",
       "      <td>RESOLVED</td>\n",
       "      <td>Resolved</td>\n",
       "      <td>351</td>\n",
       "      <td>NaN</td>\n",
       "    </tr>\n",
       "    <tr>\n",
       "      <th>1225</th>\n",
       "      <td>CX</td>\n",
       "      <td>Waitemata District</td>\n",
       "      <td>16</td>\n",
       "      <td>Miscellaneous offences</td>\n",
       "      <td>Z</td>\n",
       "      <td>Total Scene</td>\n",
       "      <td>2011</td>\n",
       "      <td>YE 30 June 2011</td>\n",
       "      <td>RESOLVED</td>\n",
       "      <td>Resolved</td>\n",
       "      <td>62</td>\n",
       "      <td>NaN</td>\n",
       "    </tr>\n",
       "    <tr>\n",
       "      <th>4824</th>\n",
       "      <td>DG</td>\n",
       "      <td>Central District</td>\n",
       "      <td>15</td>\n",
       "      <td>Offences against justice procedures, governmen...</td>\n",
       "      <td>Z</td>\n",
       "      <td>Total Scene</td>\n",
       "      <td>2013</td>\n",
       "      <td>YE 30 June 2013</td>\n",
       "      <td>RECORDED</td>\n",
       "      <td>Recorded</td>\n",
       "      <td>1022</td>\n",
       "      <td>NaN</td>\n",
       "    </tr>\n",
       "  </tbody>\n",
       "</table>\n",
       "</div>"
      ],
      "text/plain": [
       "     LOCATION                Location OFFENCE  \\\n",
       "3681       DC  Bay Of Plenty District      08   \n",
       "8053       ZZ       Total New Zealand      02   \n",
       "4283       DE        Eastern District      05   \n",
       "1225       CX      Waitemata District      16   \n",
       "4824       DG        Central District      15   \n",
       "\n",
       "                                                Offence SCENE        Scene  \\\n",
       "3681                         Theft and related offences     Z  Total Scene   \n",
       "8053                      Acts intended to cause injury     Z  Total Scene   \n",
       "4283  Abduction, harassment and other related offenc...     Z  Total Scene   \n",
       "1225                             Miscellaneous offences     Z  Total Scene   \n",
       "4824  Offences against justice procedures, governmen...     Z  Total Scene   \n",
       "\n",
       "      YEAR             Year   MEASURE   Measure  Value  Flags  \n",
       "3681  1996  YE 30 June 1996  RESOLVED  Resolved   3380    NaN  \n",
       "8053  2008  YE 30 June 2008  RESOLVED  Resolved  34817    NaN  \n",
       "4283  2001  YE 30 June 2001  RESOLVED  Resolved    351    NaN  \n",
       "1225  2011  YE 30 June 2011  RESOLVED  Resolved     62    NaN  \n",
       "4824  2013  YE 30 June 2013  RECORDED  Recorded   1022    NaN  "
      ]
     },
     "execution_count": 3,
     "metadata": {},
     "output_type": "execute_result"
    }
   ],
   "source": [
    "df.sample(5)"
   ]
  },
  {
   "cell_type": "code",
   "execution_count": 4,
   "metadata": {},
   "outputs": [
    {
     "name": "stdout",
     "output_type": "stream",
     "text": [
      "<class 'pandas.core.frame.DataFrame'>\n",
      "RangeIndex: 8320 entries, 0 to 8319\n",
      "Data columns (total 12 columns):\n",
      "LOCATION    8320 non-null object\n",
      "Location    8320 non-null object\n",
      "OFFENCE     8320 non-null object\n",
      "Offence     8320 non-null object\n",
      "SCENE       8320 non-null object\n",
      "Scene       8320 non-null object\n",
      "YEAR        8320 non-null int64\n",
      "Year        8320 non-null object\n",
      "MEASURE     8320 non-null object\n",
      "Measure     8320 non-null object\n",
      "Value       8320 non-null int64\n",
      "Flags       0 non-null float64\n",
      "dtypes: float64(1), int64(2), object(9)\n",
      "memory usage: 780.1+ KB\n"
     ]
    }
   ],
   "source": [
    "df.info()"
   ]
  },
  {
   "cell_type": "markdown",
   "metadata": {},
   "source": [
    "### Cleaning and tidying data.\n",
    "\n",
    "#### written documentation on what cleaning was performed:\n",
    "I had some duplicate columns, I dropped one of each.\n",
    "I had one column with multiple data in a row, I splitted them.\n",
    "I had one column with two rows' name, I use pivot to create two new columns from that.\n",
    "\n",
    "#### written analysis of cleaned data for characteristics:\n",
    "after cleaning and tidying my data, the number of rows passed from 8320 to 4160."
   ]
  },
  {
   "cell_type": "code",
   "execution_count": 5,
   "metadata": {},
   "outputs": [
    {
     "name": "stdout",
     "output_type": "stream",
     "text": [
      "YE 30 June 2011\n"
     ]
    }
   ],
   "source": [
    "print(df['Year'][0])"
   ]
  },
  {
   "cell_type": "code",
   "execution_count": 6,
   "metadata": {},
   "outputs": [
    {
     "name": "stdout",
     "output_type": "stream",
     "text": [
      "abbr: YE\n",
      "day: 30 \n",
      "month: June\n",
      "year: 2011\n"
     ]
    }
   ],
   "source": [
    "# This column('Year') contains multiple data.\n",
    "\n",
    "print('abbr:',str(df['Year'][0])[0:2])\n",
    "print('day:',str(df['Year'][0])[3:6])\n",
    "print('month:',str(df['Year'][0])[6:10])\n",
    "print('year:',str(df['Year'][0])[11:15])"
   ]
  },
  {
   "cell_type": "code",
   "execution_count": 7,
   "metadata": {},
   "outputs": [],
   "source": [
    "# As I already have another column 'YEAR', I will extract \"day\" and \"month\" from the column('year') and create a new column called \"Month\"\n",
    "\n",
    "def extract_day_month(row):                           \n",
    "      date_time_str = str(row['Year'])\n",
    "    \n",
    "      return date_time_str[3:10]                \n",
    "\n",
    "df['Month'] = df.apply(extract_day_month, axis=1)"
   ]
  },
  {
   "cell_type": "code",
   "execution_count": 8,
   "metadata": {},
   "outputs": [
    {
     "data": {
      "text/html": [
       "<div>\n",
       "<style scoped>\n",
       "    .dataframe tbody tr th:only-of-type {\n",
       "        vertical-align: middle;\n",
       "    }\n",
       "\n",
       "    .dataframe tbody tr th {\n",
       "        vertical-align: top;\n",
       "    }\n",
       "\n",
       "    .dataframe thead th {\n",
       "        text-align: right;\n",
       "    }\n",
       "</style>\n",
       "<table border=\"1\" class=\"dataframe\">\n",
       "  <thead>\n",
       "    <tr style=\"text-align: right;\">\n",
       "      <th></th>\n",
       "      <th>LOCATION</th>\n",
       "      <th>Location</th>\n",
       "      <th>OFFENCE</th>\n",
       "      <th>Offence</th>\n",
       "      <th>SCENE</th>\n",
       "      <th>Scene</th>\n",
       "      <th>YEAR</th>\n",
       "      <th>Year</th>\n",
       "      <th>MEASURE</th>\n",
       "      <th>Measure</th>\n",
       "      <th>Value</th>\n",
       "      <th>Flags</th>\n",
       "      <th>Month</th>\n",
       "    </tr>\n",
       "  </thead>\n",
       "  <tbody>\n",
       "    <tr>\n",
       "      <th>0</th>\n",
       "      <td>BG</td>\n",
       "      <td>Northland District</td>\n",
       "      <td>01</td>\n",
       "      <td>Homicide and related offences</td>\n",
       "      <td>Z</td>\n",
       "      <td>Total Scene</td>\n",
       "      <td>2011</td>\n",
       "      <td>YE 30 June 2011</td>\n",
       "      <td>RECORDED</td>\n",
       "      <td>Recorded</td>\n",
       "      <td>2</td>\n",
       "      <td>NaN</td>\n",
       "      <td>30 June</td>\n",
       "    </tr>\n",
       "    <tr>\n",
       "      <th>1</th>\n",
       "      <td>BG</td>\n",
       "      <td>Northland District</td>\n",
       "      <td>01</td>\n",
       "      <td>Homicide and related offences</td>\n",
       "      <td>Z</td>\n",
       "      <td>Total Scene</td>\n",
       "      <td>2012</td>\n",
       "      <td>YE 30 June 2012</td>\n",
       "      <td>RECORDED</td>\n",
       "      <td>Recorded</td>\n",
       "      <td>2</td>\n",
       "      <td>NaN</td>\n",
       "      <td>30 June</td>\n",
       "    </tr>\n",
       "    <tr>\n",
       "      <th>2</th>\n",
       "      <td>BG</td>\n",
       "      <td>Northland District</td>\n",
       "      <td>01</td>\n",
       "      <td>Homicide and related offences</td>\n",
       "      <td>Z</td>\n",
       "      <td>Total Scene</td>\n",
       "      <td>2013</td>\n",
       "      <td>YE 30 June 2013</td>\n",
       "      <td>RECORDED</td>\n",
       "      <td>Recorded</td>\n",
       "      <td>7</td>\n",
       "      <td>NaN</td>\n",
       "      <td>30 June</td>\n",
       "    </tr>\n",
       "    <tr>\n",
       "      <th>3</th>\n",
       "      <td>BG</td>\n",
       "      <td>Northland District</td>\n",
       "      <td>01</td>\n",
       "      <td>Homicide and related offences</td>\n",
       "      <td>Z</td>\n",
       "      <td>Total Scene</td>\n",
       "      <td>2014</td>\n",
       "      <td>YE 30 June 2014</td>\n",
       "      <td>RECORDED</td>\n",
       "      <td>Recorded</td>\n",
       "      <td>2</td>\n",
       "      <td>NaN</td>\n",
       "      <td>30 June</td>\n",
       "    </tr>\n",
       "    <tr>\n",
       "      <th>4</th>\n",
       "      <td>BG</td>\n",
       "      <td>Northland District</td>\n",
       "      <td>02</td>\n",
       "      <td>Acts intended to cause injury</td>\n",
       "      <td>Z</td>\n",
       "      <td>Total Scene</td>\n",
       "      <td>1995</td>\n",
       "      <td>YE 30 June 1995</td>\n",
       "      <td>RECORDED</td>\n",
       "      <td>Recorded</td>\n",
       "      <td>1442</td>\n",
       "      <td>NaN</td>\n",
       "      <td>30 June</td>\n",
       "    </tr>\n",
       "  </tbody>\n",
       "</table>\n",
       "</div>"
      ],
      "text/plain": [
       "  LOCATION            Location OFFENCE                        Offence SCENE  \\\n",
       "0       BG  Northland District      01  Homicide and related offences     Z   \n",
       "1       BG  Northland District      01  Homicide and related offences     Z   \n",
       "2       BG  Northland District      01  Homicide and related offences     Z   \n",
       "3       BG  Northland District      01  Homicide and related offences     Z   \n",
       "4       BG  Northland District      02  Acts intended to cause injury     Z   \n",
       "\n",
       "         Scene  YEAR             Year   MEASURE   Measure  Value  Flags  \\\n",
       "0  Total Scene  2011  YE 30 June 2011  RECORDED  Recorded      2    NaN   \n",
       "1  Total Scene  2012  YE 30 June 2012  RECORDED  Recorded      2    NaN   \n",
       "2  Total Scene  2013  YE 30 June 2013  RECORDED  Recorded      7    NaN   \n",
       "3  Total Scene  2014  YE 30 June 2014  RECORDED  Recorded      2    NaN   \n",
       "4  Total Scene  1995  YE 30 June 1995  RECORDED  Recorded   1442    NaN   \n",
       "\n",
       "     Month  \n",
       "0  30 June  \n",
       "1  30 June  \n",
       "2  30 June  \n",
       "3  30 June  \n",
       "4  30 June  "
      ]
     },
     "execution_count": 8,
     "metadata": {},
     "output_type": "execute_result"
    }
   ],
   "source": [
    "df.head()"
   ]
  },
  {
   "cell_type": "code",
   "execution_count": 9,
   "metadata": {},
   "outputs": [],
   "source": [
    "# Some columns don't have the same values or no values at all, I will select just columns that have useful value\n",
    "\n",
    "df1 = df[['LOCATION', 'Location','OFFENCE', 'Offence','YEAR', 'Measure', 'Value', 'Month' ]]"
   ]
  },
  {
   "cell_type": "code",
   "execution_count": 10,
   "metadata": {},
   "outputs": [
    {
     "data": {
      "text/html": [
       "<div>\n",
       "<style scoped>\n",
       "    .dataframe tbody tr th:only-of-type {\n",
       "        vertical-align: middle;\n",
       "    }\n",
       "\n",
       "    .dataframe tbody tr th {\n",
       "        vertical-align: top;\n",
       "    }\n",
       "\n",
       "    .dataframe thead th {\n",
       "        text-align: right;\n",
       "    }\n",
       "</style>\n",
       "<table border=\"1\" class=\"dataframe\">\n",
       "  <thead>\n",
       "    <tr style=\"text-align: right;\">\n",
       "      <th></th>\n",
       "      <th>LOCATION</th>\n",
       "      <th>Location</th>\n",
       "      <th>OFFENCE</th>\n",
       "      <th>Offence</th>\n",
       "      <th>YEAR</th>\n",
       "      <th>Measure</th>\n",
       "      <th>Value</th>\n",
       "      <th>Month</th>\n",
       "    </tr>\n",
       "  </thead>\n",
       "  <tbody>\n",
       "    <tr>\n",
       "      <th>0</th>\n",
       "      <td>BG</td>\n",
       "      <td>Northland District</td>\n",
       "      <td>01</td>\n",
       "      <td>Homicide and related offences</td>\n",
       "      <td>2011</td>\n",
       "      <td>Recorded</td>\n",
       "      <td>2</td>\n",
       "      <td>30 June</td>\n",
       "    </tr>\n",
       "    <tr>\n",
       "      <th>1</th>\n",
       "      <td>BG</td>\n",
       "      <td>Northland District</td>\n",
       "      <td>01</td>\n",
       "      <td>Homicide and related offences</td>\n",
       "      <td>2012</td>\n",
       "      <td>Recorded</td>\n",
       "      <td>2</td>\n",
       "      <td>30 June</td>\n",
       "    </tr>\n",
       "    <tr>\n",
       "      <th>2</th>\n",
       "      <td>BG</td>\n",
       "      <td>Northland District</td>\n",
       "      <td>01</td>\n",
       "      <td>Homicide and related offences</td>\n",
       "      <td>2013</td>\n",
       "      <td>Recorded</td>\n",
       "      <td>7</td>\n",
       "      <td>30 June</td>\n",
       "    </tr>\n",
       "    <tr>\n",
       "      <th>3</th>\n",
       "      <td>BG</td>\n",
       "      <td>Northland District</td>\n",
       "      <td>01</td>\n",
       "      <td>Homicide and related offences</td>\n",
       "      <td>2014</td>\n",
       "      <td>Recorded</td>\n",
       "      <td>2</td>\n",
       "      <td>30 June</td>\n",
       "    </tr>\n",
       "    <tr>\n",
       "      <th>4</th>\n",
       "      <td>BG</td>\n",
       "      <td>Northland District</td>\n",
       "      <td>02</td>\n",
       "      <td>Acts intended to cause injury</td>\n",
       "      <td>1995</td>\n",
       "      <td>Recorded</td>\n",
       "      <td>1442</td>\n",
       "      <td>30 June</td>\n",
       "    </tr>\n",
       "  </tbody>\n",
       "</table>\n",
       "</div>"
      ],
      "text/plain": [
       "  LOCATION            Location OFFENCE                        Offence  YEAR  \\\n",
       "0       BG  Northland District      01  Homicide and related offences  2011   \n",
       "1       BG  Northland District      01  Homicide and related offences  2012   \n",
       "2       BG  Northland District      01  Homicide and related offences  2013   \n",
       "3       BG  Northland District      01  Homicide and related offences  2014   \n",
       "4       BG  Northland District      02  Acts intended to cause injury  1995   \n",
       "\n",
       "    Measure  Value    Month  \n",
       "0  Recorded      2  30 June  \n",
       "1  Recorded      2  30 June  \n",
       "2  Recorded      7  30 June  \n",
       "3  Recorded      2  30 June  \n",
       "4  Recorded   1442  30 June  "
      ]
     },
     "execution_count": 10,
     "metadata": {},
     "output_type": "execute_result"
    }
   ],
   "source": [
    "df1.head()"
   ]
  },
  {
   "cell_type": "code",
   "execution_count": 11,
   "metadata": {},
   "outputs": [],
   "source": [
    "# The column \"Measure\", has 2 different values(Recorded and Resolved), I will put them in 2 differents columns by using pivot\n",
    "\n",
    "df1_long = df1.pivot_table(\n",
    "    index=['LOCATION', 'Location','OFFENCE', 'Offence','YEAR', 'Month'] ,\n",
    "    values='Value',\n",
    "    columns='Measure'\n",
    "    )\n",
    "\n",
    "# # Formatting.\n",
    "df1_long.reset_index(inplace=True)\n",
    "df1_long.columns.name = None"
   ]
  },
  {
   "cell_type": "code",
   "execution_count": 12,
   "metadata": {},
   "outputs": [
    {
     "data": {
      "text/html": [
       "<div>\n",
       "<style scoped>\n",
       "    .dataframe tbody tr th:only-of-type {\n",
       "        vertical-align: middle;\n",
       "    }\n",
       "\n",
       "    .dataframe tbody tr th {\n",
       "        vertical-align: top;\n",
       "    }\n",
       "\n",
       "    .dataframe thead th {\n",
       "        text-align: right;\n",
       "    }\n",
       "</style>\n",
       "<table border=\"1\" class=\"dataframe\">\n",
       "  <thead>\n",
       "    <tr style=\"text-align: right;\">\n",
       "      <th></th>\n",
       "      <th>LOCATION</th>\n",
       "      <th>Location</th>\n",
       "      <th>OFFENCE</th>\n",
       "      <th>Offence</th>\n",
       "      <th>YEAR</th>\n",
       "      <th>Month</th>\n",
       "      <th>Recorded</th>\n",
       "      <th>Resolved</th>\n",
       "    </tr>\n",
       "  </thead>\n",
       "  <tbody>\n",
       "    <tr>\n",
       "      <th>0</th>\n",
       "      <td>BG</td>\n",
       "      <td>Northland District</td>\n",
       "      <td>01</td>\n",
       "      <td>Homicide and related offences</td>\n",
       "      <td>1995</td>\n",
       "      <td>30 June</td>\n",
       "      <td>5</td>\n",
       "      <td>3</td>\n",
       "    </tr>\n",
       "    <tr>\n",
       "      <th>1</th>\n",
       "      <td>BG</td>\n",
       "      <td>Northland District</td>\n",
       "      <td>01</td>\n",
       "      <td>Homicide and related offences</td>\n",
       "      <td>1996</td>\n",
       "      <td>30 June</td>\n",
       "      <td>5</td>\n",
       "      <td>4</td>\n",
       "    </tr>\n",
       "    <tr>\n",
       "      <th>2</th>\n",
       "      <td>BG</td>\n",
       "      <td>Northland District</td>\n",
       "      <td>01</td>\n",
       "      <td>Homicide and related offences</td>\n",
       "      <td>1997</td>\n",
       "      <td>30 June</td>\n",
       "      <td>3</td>\n",
       "      <td>3</td>\n",
       "    </tr>\n",
       "    <tr>\n",
       "      <th>3</th>\n",
       "      <td>BG</td>\n",
       "      <td>Northland District</td>\n",
       "      <td>01</td>\n",
       "      <td>Homicide and related offences</td>\n",
       "      <td>1998</td>\n",
       "      <td>30 June</td>\n",
       "      <td>1</td>\n",
       "      <td>1</td>\n",
       "    </tr>\n",
       "    <tr>\n",
       "      <th>4</th>\n",
       "      <td>BG</td>\n",
       "      <td>Northland District</td>\n",
       "      <td>01</td>\n",
       "      <td>Homicide and related offences</td>\n",
       "      <td>1999</td>\n",
       "      <td>30 June</td>\n",
       "      <td>3</td>\n",
       "      <td>2</td>\n",
       "    </tr>\n",
       "  </tbody>\n",
       "</table>\n",
       "</div>"
      ],
      "text/plain": [
       "  LOCATION            Location OFFENCE                        Offence  YEAR  \\\n",
       "0       BG  Northland District      01  Homicide and related offences  1995   \n",
       "1       BG  Northland District      01  Homicide and related offences  1996   \n",
       "2       BG  Northland District      01  Homicide and related offences  1997   \n",
       "3       BG  Northland District      01  Homicide and related offences  1998   \n",
       "4       BG  Northland District      01  Homicide and related offences  1999   \n",
       "\n",
       "     Month  Recorded  Resolved  \n",
       "0  30 June         5         3  \n",
       "1  30 June         5         4  \n",
       "2  30 June         3         3  \n",
       "3  30 June         1         1  \n",
       "4  30 June         3         2  "
      ]
     },
     "execution_count": 12,
     "metadata": {},
     "output_type": "execute_result"
    }
   ],
   "source": [
    "df1_long.head()"
   ]
  },
  {
   "cell_type": "code",
   "execution_count": 13,
   "metadata": {},
   "outputs": [],
   "source": [
    "#Rename some columns for printing consistency\n",
    "\n",
    "df1_long.rename(columns={'LOCATION':'State_abbr', 'OFFENCE': 'Number_of_offence', 'YEAR': 'Year' }, inplace=True)"
   ]
  },
  {
   "cell_type": "code",
   "execution_count": 14,
   "metadata": {},
   "outputs": [
    {
     "data": {
      "text/html": [
       "<div>\n",
       "<style scoped>\n",
       "    .dataframe tbody tr th:only-of-type {\n",
       "        vertical-align: middle;\n",
       "    }\n",
       "\n",
       "    .dataframe tbody tr th {\n",
       "        vertical-align: top;\n",
       "    }\n",
       "\n",
       "    .dataframe thead th {\n",
       "        text-align: right;\n",
       "    }\n",
       "</style>\n",
       "<table border=\"1\" class=\"dataframe\">\n",
       "  <thead>\n",
       "    <tr style=\"text-align: right;\">\n",
       "      <th></th>\n",
       "      <th>State_abbr</th>\n",
       "      <th>Location</th>\n",
       "      <th>Number_of_offence</th>\n",
       "      <th>Offence</th>\n",
       "      <th>Year</th>\n",
       "      <th>Month</th>\n",
       "      <th>Recorded</th>\n",
       "      <th>Resolved</th>\n",
       "    </tr>\n",
       "  </thead>\n",
       "  <tbody>\n",
       "    <tr>\n",
       "      <th>0</th>\n",
       "      <td>BG</td>\n",
       "      <td>Northland District</td>\n",
       "      <td>01</td>\n",
       "      <td>Homicide and related offences</td>\n",
       "      <td>1995</td>\n",
       "      <td>30 June</td>\n",
       "      <td>5</td>\n",
       "      <td>3</td>\n",
       "    </tr>\n",
       "    <tr>\n",
       "      <th>1</th>\n",
       "      <td>BG</td>\n",
       "      <td>Northland District</td>\n",
       "      <td>01</td>\n",
       "      <td>Homicide and related offences</td>\n",
       "      <td>1996</td>\n",
       "      <td>30 June</td>\n",
       "      <td>5</td>\n",
       "      <td>4</td>\n",
       "    </tr>\n",
       "    <tr>\n",
       "      <th>2</th>\n",
       "      <td>BG</td>\n",
       "      <td>Northland District</td>\n",
       "      <td>01</td>\n",
       "      <td>Homicide and related offences</td>\n",
       "      <td>1997</td>\n",
       "      <td>30 June</td>\n",
       "      <td>3</td>\n",
       "      <td>3</td>\n",
       "    </tr>\n",
       "    <tr>\n",
       "      <th>3</th>\n",
       "      <td>BG</td>\n",
       "      <td>Northland District</td>\n",
       "      <td>01</td>\n",
       "      <td>Homicide and related offences</td>\n",
       "      <td>1998</td>\n",
       "      <td>30 June</td>\n",
       "      <td>1</td>\n",
       "      <td>1</td>\n",
       "    </tr>\n",
       "    <tr>\n",
       "      <th>4</th>\n",
       "      <td>BG</td>\n",
       "      <td>Northland District</td>\n",
       "      <td>01</td>\n",
       "      <td>Homicide and related offences</td>\n",
       "      <td>1999</td>\n",
       "      <td>30 June</td>\n",
       "      <td>3</td>\n",
       "      <td>2</td>\n",
       "    </tr>\n",
       "  </tbody>\n",
       "</table>\n",
       "</div>"
      ],
      "text/plain": [
       "  State_abbr            Location Number_of_offence  \\\n",
       "0         BG  Northland District                01   \n",
       "1         BG  Northland District                01   \n",
       "2         BG  Northland District                01   \n",
       "3         BG  Northland District                01   \n",
       "4         BG  Northland District                01   \n",
       "\n",
       "                         Offence  Year    Month  Recorded  Resolved  \n",
       "0  Homicide and related offences  1995  30 June         5         3  \n",
       "1  Homicide and related offences  1996  30 June         5         4  \n",
       "2  Homicide and related offences  1997  30 June         3         3  \n",
       "3  Homicide and related offences  1998  30 June         1         1  \n",
       "4  Homicide and related offences  1999  30 June         3         2  "
      ]
     },
     "execution_count": 14,
     "metadata": {},
     "output_type": "execute_result"
    }
   ],
   "source": [
    "df1_long.head()"
   ]
  },
  {
   "cell_type": "code",
   "execution_count": 15,
   "metadata": {},
   "outputs": [
    {
     "data": {
      "text/html": [
       "<div>\n",
       "<style scoped>\n",
       "    .dataframe tbody tr th:only-of-type {\n",
       "        vertical-align: middle;\n",
       "    }\n",
       "\n",
       "    .dataframe tbody tr th {\n",
       "        vertical-align: top;\n",
       "    }\n",
       "\n",
       "    .dataframe thead th {\n",
       "        text-align: right;\n",
       "    }\n",
       "</style>\n",
       "<table border=\"1\" class=\"dataframe\">\n",
       "  <thead>\n",
       "    <tr style=\"text-align: right;\">\n",
       "      <th></th>\n",
       "      <th>State_abbr</th>\n",
       "      <th>Location</th>\n",
       "      <th>Number_of_offence</th>\n",
       "      <th>Offence</th>\n",
       "      <th>Year</th>\n",
       "      <th>Month</th>\n",
       "      <th>Recorded</th>\n",
       "      <th>Resolved</th>\n",
       "    </tr>\n",
       "  </thead>\n",
       "  <tbody>\n",
       "    <tr>\n",
       "      <th>4155</th>\n",
       "      <td>ZZ</td>\n",
       "      <td>Total New Zealand</td>\n",
       "      <td>Z</td>\n",
       "      <td>Total Offences</td>\n",
       "      <td>2010</td>\n",
       "      <td>30 June</td>\n",
       "      <td>441960</td>\n",
       "      <td>212561</td>\n",
       "    </tr>\n",
       "    <tr>\n",
       "      <th>4156</th>\n",
       "      <td>ZZ</td>\n",
       "      <td>Total New Zealand</td>\n",
       "      <td>Z</td>\n",
       "      <td>Total Offences</td>\n",
       "      <td>2011</td>\n",
       "      <td>30 June</td>\n",
       "      <td>416324</td>\n",
       "      <td>196819</td>\n",
       "    </tr>\n",
       "    <tr>\n",
       "      <th>4157</th>\n",
       "      <td>ZZ</td>\n",
       "      <td>Total New Zealand</td>\n",
       "      <td>Z</td>\n",
       "      <td>Total Offences</td>\n",
       "      <td>2012</td>\n",
       "      <td>30 June</td>\n",
       "      <td>394522</td>\n",
       "      <td>187748</td>\n",
       "    </tr>\n",
       "    <tr>\n",
       "      <th>4158</th>\n",
       "      <td>ZZ</td>\n",
       "      <td>Total New Zealand</td>\n",
       "      <td>Z</td>\n",
       "      <td>Total Offences</td>\n",
       "      <td>2013</td>\n",
       "      <td>30 June</td>\n",
       "      <td>365185</td>\n",
       "      <td>170377</td>\n",
       "    </tr>\n",
       "    <tr>\n",
       "      <th>4159</th>\n",
       "      <td>ZZ</td>\n",
       "      <td>Total New Zealand</td>\n",
       "      <td>Z</td>\n",
       "      <td>Total Offences</td>\n",
       "      <td>2014</td>\n",
       "      <td>30 June</td>\n",
       "      <td>353564</td>\n",
       "      <td>149392</td>\n",
       "    </tr>\n",
       "  </tbody>\n",
       "</table>\n",
       "</div>"
      ],
      "text/plain": [
       "     State_abbr           Location Number_of_offence         Offence  Year  \\\n",
       "4155         ZZ  Total New Zealand                 Z  Total Offences  2010   \n",
       "4156         ZZ  Total New Zealand                 Z  Total Offences  2011   \n",
       "4157         ZZ  Total New Zealand                 Z  Total Offences  2012   \n",
       "4158         ZZ  Total New Zealand                 Z  Total Offences  2013   \n",
       "4159         ZZ  Total New Zealand                 Z  Total Offences  2014   \n",
       "\n",
       "        Month  Recorded  Resolved  \n",
       "4155  30 June    441960    212561  \n",
       "4156  30 June    416324    196819  \n",
       "4157  30 June    394522    187748  \n",
       "4158  30 June    365185    170377  \n",
       "4159  30 June    353564    149392  "
      ]
     },
     "execution_count": 15,
     "metadata": {},
     "output_type": "execute_result"
    }
   ],
   "source": [
    "df1_long.tail()"
   ]
  },
  {
   "cell_type": "code",
   "execution_count": 16,
   "metadata": {},
   "outputs": [
    {
     "data": {
      "text/plain": [
       "(4160, 8)"
      ]
     },
     "execution_count": 16,
     "metadata": {},
     "output_type": "execute_result"
    }
   ],
   "source": [
    "df1_long.shape   # This shows that I have less rows now, as I created new columns from rows"
   ]
  },
  {
   "cell_type": "markdown",
   "metadata": {},
   "source": [
    "### As my hypotheses are base on the whole country, I will create a new dataframe which  will contain only data of 'Total New Zealand.'"
   ]
  },
  {
   "cell_type": "code",
   "execution_count": 17,
   "metadata": {},
   "outputs": [],
   "source": [
    "# Select all the rows having values 'Total New Zealand'\n",
    "\n",
    "df_Total_New_zealand = df1_long.loc[df1_long['Location']=='Total New Zealand']"
   ]
  },
  {
   "cell_type": "code",
   "execution_count": 18,
   "metadata": {},
   "outputs": [
    {
     "data": {
      "text/html": [
       "<div>\n",
       "<style scoped>\n",
       "    .dataframe tbody tr th:only-of-type {\n",
       "        vertical-align: middle;\n",
       "    }\n",
       "\n",
       "    .dataframe tbody tr th {\n",
       "        vertical-align: top;\n",
       "    }\n",
       "\n",
       "    .dataframe thead th {\n",
       "        text-align: right;\n",
       "    }\n",
       "</style>\n",
       "<table border=\"1\" class=\"dataframe\">\n",
       "  <thead>\n",
       "    <tr style=\"text-align: right;\">\n",
       "      <th></th>\n",
       "      <th>State_abbr</th>\n",
       "      <th>Location</th>\n",
       "      <th>Number_of_offence</th>\n",
       "      <th>Offence</th>\n",
       "      <th>Year</th>\n",
       "      <th>Month</th>\n",
       "      <th>Recorded</th>\n",
       "      <th>Resolved</th>\n",
       "    </tr>\n",
       "  </thead>\n",
       "  <tbody>\n",
       "    <tr>\n",
       "      <th>3840</th>\n",
       "      <td>ZZ</td>\n",
       "      <td>Total New Zealand</td>\n",
       "      <td>01</td>\n",
       "      <td>Homicide and related offences</td>\n",
       "      <td>1995</td>\n",
       "      <td>30 June</td>\n",
       "      <td>110</td>\n",
       "      <td>87</td>\n",
       "    </tr>\n",
       "    <tr>\n",
       "      <th>3841</th>\n",
       "      <td>ZZ</td>\n",
       "      <td>Total New Zealand</td>\n",
       "      <td>01</td>\n",
       "      <td>Homicide and related offences</td>\n",
       "      <td>1996</td>\n",
       "      <td>30 June</td>\n",
       "      <td>103</td>\n",
       "      <td>83</td>\n",
       "    </tr>\n",
       "    <tr>\n",
       "      <th>3842</th>\n",
       "      <td>ZZ</td>\n",
       "      <td>Total New Zealand</td>\n",
       "      <td>01</td>\n",
       "      <td>Homicide and related offences</td>\n",
       "      <td>1997</td>\n",
       "      <td>30 June</td>\n",
       "      <td>158</td>\n",
       "      <td>135</td>\n",
       "    </tr>\n",
       "    <tr>\n",
       "      <th>3843</th>\n",
       "      <td>ZZ</td>\n",
       "      <td>Total New Zealand</td>\n",
       "      <td>01</td>\n",
       "      <td>Homicide and related offences</td>\n",
       "      <td>1998</td>\n",
       "      <td>30 June</td>\n",
       "      <td>116</td>\n",
       "      <td>86</td>\n",
       "    </tr>\n",
       "    <tr>\n",
       "      <th>3844</th>\n",
       "      <td>ZZ</td>\n",
       "      <td>Total New Zealand</td>\n",
       "      <td>01</td>\n",
       "      <td>Homicide and related offences</td>\n",
       "      <td>1999</td>\n",
       "      <td>30 June</td>\n",
       "      <td>93</td>\n",
       "      <td>66</td>\n",
       "    </tr>\n",
       "  </tbody>\n",
       "</table>\n",
       "</div>"
      ],
      "text/plain": [
       "     State_abbr           Location Number_of_offence  \\\n",
       "3840         ZZ  Total New Zealand                01   \n",
       "3841         ZZ  Total New Zealand                01   \n",
       "3842         ZZ  Total New Zealand                01   \n",
       "3843         ZZ  Total New Zealand                01   \n",
       "3844         ZZ  Total New Zealand                01   \n",
       "\n",
       "                            Offence  Year    Month  Recorded  Resolved  \n",
       "3840  Homicide and related offences  1995  30 June       110        87  \n",
       "3841  Homicide and related offences  1996  30 June       103        83  \n",
       "3842  Homicide and related offences  1997  30 June       158       135  \n",
       "3843  Homicide and related offences  1998  30 June       116        86  \n",
       "3844  Homicide and related offences  1999  30 June        93        66  "
      ]
     },
     "execution_count": 18,
     "metadata": {},
     "output_type": "execute_result"
    }
   ],
   "source": [
    "df_Total_New_zealand.head()"
   ]
  },
  {
   "cell_type": "code",
   "execution_count": 19,
   "metadata": {},
   "outputs": [
    {
     "data": {
      "text/plain": [
       "(320, 8)"
      ]
     },
     "execution_count": 19,
     "metadata": {},
     "output_type": "execute_result"
    }
   ],
   "source": [
    "df_Total_New_zealand.shape"
   ]
  },
  {
   "cell_type": "markdown",
   "metadata": {},
   "source": [
    "### Hypothesis#1: Theft and related offenses are around 30% of the total offenses."
   ]
  },
  {
   "cell_type": "markdown",
   "metadata": {},
   "source": [
    "#Each year sum of all offenses in the country.\n",
    "\n",
    "df_Total_New_zealand.loc[df_Total_New_zealand['Offence']=='Total Offences']"
   ]
  },
  {
   "cell_type": "code",
   "execution_count": 20,
   "metadata": {},
   "outputs": [
    {
     "data": {
      "text/html": [
       "<div>\n",
       "<style scoped>\n",
       "    .dataframe tbody tr th:only-of-type {\n",
       "        vertical-align: middle;\n",
       "    }\n",
       "\n",
       "    .dataframe tbody tr th {\n",
       "        vertical-align: top;\n",
       "    }\n",
       "\n",
       "    .dataframe thead th {\n",
       "        text-align: right;\n",
       "    }\n",
       "</style>\n",
       "<table border=\"1\" class=\"dataframe\">\n",
       "  <thead>\n",
       "    <tr style=\"text-align: right;\">\n",
       "      <th></th>\n",
       "      <th>State_abbr</th>\n",
       "      <th>Location</th>\n",
       "      <th>Number_of_offence</th>\n",
       "      <th>Offence</th>\n",
       "      <th>Year</th>\n",
       "      <th>Month</th>\n",
       "      <th>Recorded</th>\n",
       "      <th>Resolved</th>\n",
       "    </tr>\n",
       "  </thead>\n",
       "  <tbody>\n",
       "    <tr>\n",
       "      <th>0</th>\n",
       "      <td>ZZ</td>\n",
       "      <td>Total New Zealand</td>\n",
       "      <td>Z</td>\n",
       "      <td>Total Offences</td>\n",
       "      <td>1995</td>\n",
       "      <td>30 June</td>\n",
       "      <td>461140</td>\n",
       "      <td>173675</td>\n",
       "    </tr>\n",
       "    <tr>\n",
       "      <th>1</th>\n",
       "      <td>ZZ</td>\n",
       "      <td>Total New Zealand</td>\n",
       "      <td>Z</td>\n",
       "      <td>Total Offences</td>\n",
       "      <td>1996</td>\n",
       "      <td>30 June</td>\n",
       "      <td>475154</td>\n",
       "      <td>179826</td>\n",
       "    </tr>\n",
       "    <tr>\n",
       "      <th>2</th>\n",
       "      <td>ZZ</td>\n",
       "      <td>Total New Zealand</td>\n",
       "      <td>Z</td>\n",
       "      <td>Total Offences</td>\n",
       "      <td>1997</td>\n",
       "      <td>30 June</td>\n",
       "      <td>482831</td>\n",
       "      <td>178140</td>\n",
       "    </tr>\n",
       "    <tr>\n",
       "      <th>3</th>\n",
       "      <td>ZZ</td>\n",
       "      <td>Total New Zealand</td>\n",
       "      <td>Z</td>\n",
       "      <td>Total Offences</td>\n",
       "      <td>1998</td>\n",
       "      <td>30 June</td>\n",
       "      <td>465834</td>\n",
       "      <td>177687</td>\n",
       "    </tr>\n",
       "    <tr>\n",
       "      <th>4</th>\n",
       "      <td>ZZ</td>\n",
       "      <td>Total New Zealand</td>\n",
       "      <td>Z</td>\n",
       "      <td>Total Offences</td>\n",
       "      <td>1999</td>\n",
       "      <td>30 June</td>\n",
       "      <td>455552</td>\n",
       "      <td>174576</td>\n",
       "    </tr>\n",
       "  </tbody>\n",
       "</table>\n",
       "</div>"
      ],
      "text/plain": [
       "  State_abbr           Location Number_of_offence         Offence  Year  \\\n",
       "0         ZZ  Total New Zealand                 Z  Total Offences  1995   \n",
       "1         ZZ  Total New Zealand                 Z  Total Offences  1996   \n",
       "2         ZZ  Total New Zealand                 Z  Total Offences  1997   \n",
       "3         ZZ  Total New Zealand                 Z  Total Offences  1998   \n",
       "4         ZZ  Total New Zealand                 Z  Total Offences  1999   \n",
       "\n",
       "     Month  Recorded  Resolved  \n",
       "0  30 June    461140    173675  \n",
       "1  30 June    475154    179826  \n",
       "2  30 June    482831    178140  \n",
       "3  30 June    465834    177687  \n",
       "4  30 June    455552    174576  "
      ]
     },
     "execution_count": 20,
     "metadata": {},
     "output_type": "execute_result"
    }
   ],
   "source": [
    "# Create a new dataframe for the yearly 'Total Offenses'\n",
    "\n",
    "df_total_offenses_yearly = df_Total_New_zealand.loc[df_Total_New_zealand['Offence']=='Total Offences'] \n",
    "\n",
    "df_total_offenses_yearly.reset_index(drop=True, inplace=True)\n",
    "\n",
    "df_total_offenses_yearly.head()"
   ]
  },
  {
   "cell_type": "code",
   "execution_count": 21,
   "metadata": {},
   "outputs": [
    {
     "data": {
      "text/plain": [
       "State_abbr           object\n",
       "Location             object\n",
       "Number_of_offence    object\n",
       "Offence              object\n",
       "Year                  int64\n",
       "Month                object\n",
       "Recorded              int64\n",
       "Resolved              int64\n",
       "dtype: object"
      ]
     },
     "execution_count": 21,
     "metadata": {},
     "output_type": "execute_result"
    }
   ],
   "source": [
    "df_total_offenses_yearly.dtypes"
   ]
  },
  {
   "cell_type": "raw",
   "metadata": {},
   "source": [
    "# Each year total offenses relate to \"Theft and related offenses\"\n",
    "\n",
    "df_Total_New_zealand.loc[df_Total_New_zealand['Offence']=='Theft and related offences']\n"
   ]
  },
  {
   "cell_type": "code",
   "execution_count": 22,
   "metadata": {},
   "outputs": [
    {
     "data": {
      "text/html": [
       "<div>\n",
       "<style scoped>\n",
       "    .dataframe tbody tr th:only-of-type {\n",
       "        vertical-align: middle;\n",
       "    }\n",
       "\n",
       "    .dataframe tbody tr th {\n",
       "        vertical-align: top;\n",
       "    }\n",
       "\n",
       "    .dataframe thead th {\n",
       "        text-align: right;\n",
       "    }\n",
       "</style>\n",
       "<table border=\"1\" class=\"dataframe\">\n",
       "  <thead>\n",
       "    <tr style=\"text-align: right;\">\n",
       "      <th></th>\n",
       "      <th>State_abbr</th>\n",
       "      <th>Location</th>\n",
       "      <th>Number_of_offence</th>\n",
       "      <th>Offence</th>\n",
       "      <th>Year</th>\n",
       "      <th>Month</th>\n",
       "      <th>Recorded</th>\n",
       "      <th>Resolved</th>\n",
       "    </tr>\n",
       "  </thead>\n",
       "  <tbody>\n",
       "    <tr>\n",
       "      <th>0</th>\n",
       "      <td>ZZ</td>\n",
       "      <td>Total New Zealand</td>\n",
       "      <td>08</td>\n",
       "      <td>Theft and related offences</td>\n",
       "      <td>1995</td>\n",
       "      <td>30 June</td>\n",
       "      <td>179969</td>\n",
       "      <td>37085</td>\n",
       "    </tr>\n",
       "    <tr>\n",
       "      <th>1</th>\n",
       "      <td>ZZ</td>\n",
       "      <td>Total New Zealand</td>\n",
       "      <td>08</td>\n",
       "      <td>Theft and related offences</td>\n",
       "      <td>1996</td>\n",
       "      <td>30 June</td>\n",
       "      <td>185925</td>\n",
       "      <td>38723</td>\n",
       "    </tr>\n",
       "    <tr>\n",
       "      <th>2</th>\n",
       "      <td>ZZ</td>\n",
       "      <td>Total New Zealand</td>\n",
       "      <td>08</td>\n",
       "      <td>Theft and related offences</td>\n",
       "      <td>1997</td>\n",
       "      <td>30 June</td>\n",
       "      <td>186967</td>\n",
       "      <td>35545</td>\n",
       "    </tr>\n",
       "    <tr>\n",
       "      <th>3</th>\n",
       "      <td>ZZ</td>\n",
       "      <td>Total New Zealand</td>\n",
       "      <td>08</td>\n",
       "      <td>Theft and related offences</td>\n",
       "      <td>1998</td>\n",
       "      <td>30 June</td>\n",
       "      <td>177835</td>\n",
       "      <td>34292</td>\n",
       "    </tr>\n",
       "    <tr>\n",
       "      <th>4</th>\n",
       "      <td>ZZ</td>\n",
       "      <td>Total New Zealand</td>\n",
       "      <td>08</td>\n",
       "      <td>Theft and related offences</td>\n",
       "      <td>1999</td>\n",
       "      <td>30 June</td>\n",
       "      <td>174159</td>\n",
       "      <td>33476</td>\n",
       "    </tr>\n",
       "  </tbody>\n",
       "</table>\n",
       "</div>"
      ],
      "text/plain": [
       "  State_abbr           Location Number_of_offence                     Offence  \\\n",
       "0         ZZ  Total New Zealand                08  Theft and related offences   \n",
       "1         ZZ  Total New Zealand                08  Theft and related offences   \n",
       "2         ZZ  Total New Zealand                08  Theft and related offences   \n",
       "3         ZZ  Total New Zealand                08  Theft and related offences   \n",
       "4         ZZ  Total New Zealand                08  Theft and related offences   \n",
       "\n",
       "   Year    Month  Recorded  Resolved  \n",
       "0  1995  30 June    179969     37085  \n",
       "1  1996  30 June    185925     38723  \n",
       "2  1997  30 June    186967     35545  \n",
       "3  1998  30 June    177835     34292  \n",
       "4  1999  30 June    174159     33476  "
      ]
     },
     "execution_count": 22,
     "metadata": {},
     "output_type": "execute_result"
    }
   ],
   "source": [
    "# Create a new dataframe for only \"Theft and related offences\"\n",
    "\n",
    "df_theft_yearly = df_Total_New_zealand.loc[df_Total_New_zealand['Offence']=='Theft and related offences']\n",
    "\n",
    "df_theft_yearly.reset_index(drop=True, inplace=True)\n",
    "\n",
    "df_theft_yearly.head()\n"
   ]
  },
  {
   "cell_type": "code",
   "execution_count": 23,
   "metadata": {},
   "outputs": [
    {
     "data": {
      "text/plain": [
       "{1995: 0    39.03\n",
       " Name: Recorded, dtype: float64, 1996: 1    39.13\n",
       " Name: Recorded, dtype: float64, 1997: 2    38.72\n",
       " Name: Recorded, dtype: float64, 1998: 3    38.18\n",
       " Name: Recorded, dtype: float64, 1999: 4    38.23\n",
       " Name: Recorded, dtype: float64, 2000: 5    37.1\n",
       " Name: Recorded, dtype: float64, 2001: 6    37.03\n",
       " Name: Recorded, dtype: float64, 2002: 7    37.85\n",
       " Name: Recorded, dtype: float64, 2003: 8    37.37\n",
       " Name: Recorded, dtype: float64, 2004: 9    36.47\n",
       " Name: Recorded, dtype: float64, 2005: 10    36.72\n",
       " Name: Recorded, dtype: float64, 2006: 11    37.1\n",
       " Name: Recorded, dtype: float64, 2007: 12    35.05\n",
       " Name: Recorded, dtype: float64, 2008: 13    33.32\n",
       " Name: Recorded, dtype: float64, 2009: 14    32.0\n",
       " Name: Recorded, dtype: float64, 2010: 15    31.98\n",
       " Name: Recorded, dtype: float64, 2011: 16    32.79\n",
       " Name: Recorded, dtype: float64, 2012: 17    32.79\n",
       " Name: Recorded, dtype: float64, 2013: 18    32.17\n",
       " Name: Recorded, dtype: float64, 2014: 19    34.56\n",
       " Name: Recorded, dtype: float64}"
      ]
     },
     "execution_count": 23,
     "metadata": {},
     "output_type": "execute_result"
    }
   ],
   "source": [
    "# Comparing theft with total of the offenses.\n",
    "# For this I will need the \"Recorded\" column\n",
    "\n",
    "Years_list =[1995, 1996, 1997, 1998, 1999, 2000, 2001, 2002, 2003, 2004, 2005, 2006, 2007, 2008, 2009, 2010, 2011, 2012, 2013, 2014]\n",
    "\n",
    "\n",
    "dict_percentage ={}\n",
    "\n",
    "for i in Years_list:\n",
    "    Theft= df_theft_yearly.loc[df_theft_yearly['Year'] == i]['Recorded']\n",
    "    Others= df_total_offenses_yearly.loc[df_total_offenses_yearly['Year'] == i]['Recorded']\n",
    "    \n",
    "    dict_percentage[i] =round(( (Theft)/(Others))*100,2)\n",
    "    \n",
    "    \n",
    "dict_percentage"
   ]
  },
  {
   "cell_type": "code",
   "execution_count": 24,
   "metadata": {},
   "outputs": [
    {
     "data": {
      "text/html": [
       "<div>\n",
       "<style scoped>\n",
       "    .dataframe tbody tr th:only-of-type {\n",
       "        vertical-align: middle;\n",
       "    }\n",
       "\n",
       "    .dataframe tbody tr th {\n",
       "        vertical-align: top;\n",
       "    }\n",
       "\n",
       "    .dataframe thead th {\n",
       "        text-align: right;\n",
       "    }\n",
       "</style>\n",
       "<table border=\"1\" class=\"dataframe\">\n",
       "  <thead>\n",
       "    <tr style=\"text-align: right;\">\n",
       "      <th></th>\n",
       "      <th>Year</th>\n",
       "      <th>Percentage_of_theft</th>\n",
       "    </tr>\n",
       "  </thead>\n",
       "  <tbody>\n",
       "    <tr>\n",
       "      <th>0</th>\n",
       "      <td>1995</td>\n",
       "      <td>39.03</td>\n",
       "    </tr>\n",
       "    <tr>\n",
       "      <th>1</th>\n",
       "      <td>1996</td>\n",
       "      <td>39.13</td>\n",
       "    </tr>\n",
       "    <tr>\n",
       "      <th>2</th>\n",
       "      <td>1997</td>\n",
       "      <td>38.72</td>\n",
       "    </tr>\n",
       "    <tr>\n",
       "      <th>3</th>\n",
       "      <td>1998</td>\n",
       "      <td>38.18</td>\n",
       "    </tr>\n",
       "    <tr>\n",
       "      <th>4</th>\n",
       "      <td>1999</td>\n",
       "      <td>38.23</td>\n",
       "    </tr>\n",
       "  </tbody>\n",
       "</table>\n",
       "</div>"
      ],
      "text/plain": [
       "   Year  Percentage_of_theft\n",
       "0  1995                39.03\n",
       "1  1996                39.13\n",
       "2  1997                38.72\n",
       "3  1998                38.18\n",
       "4  1999                38.23"
      ]
     },
     "execution_count": 24,
     "metadata": {},
     "output_type": "execute_result"
    }
   ],
   "source": [
    "# Create a dataframe from a dictionary \n",
    "\n",
    "df_percentage = pd.DataFrame.from_dict(dict_percentage)\n",
    "df_percentage\n",
    "df_percentage_long = (pd.melt(df_percentage)).dropna() \n",
    "df_percentage_long.reset_index(drop=True, inplace=True)\n",
    "\n",
    "df_percentage_New= df_percentage_long.rename(columns = {'variable':'Year', 'value':\"Percentage_of_theft\"})\n",
    "\n",
    "\n",
    "df_percentage_New.head()"
   ]
  },
  {
   "cell_type": "code",
   "execution_count": 25,
   "metadata": {},
   "outputs": [
    {
     "data": {
      "text/plain": [
       "Year                     int64\n",
       "Percentage_of_theft    float64\n",
       "dtype: object"
      ]
     },
     "execution_count": 25,
     "metadata": {},
     "output_type": "execute_result"
    }
   ],
   "source": [
    "df_percentage_New.dtypes"
   ]
  },
  {
   "cell_type": "code",
   "execution_count": 26,
   "metadata": {},
   "outputs": [
    {
     "data": {
      "text/plain": [
       "Text(0, 0.5, 'Percentage_of_theft')"
      ]
     },
     "execution_count": 26,
     "metadata": {},
     "output_type": "execute_result"
    },
    {
     "data": {
      "image/png": "[encoded data removed]",
      "text/plain": [
       "<Figure size 1080x504 with 1 Axes>"
      ]
     },
     "metadata": {
      "needs_background": "light"
     },
     "output_type": "display_data"
    }
   ],
   "source": [
    "#Plot, the percentage of theft-related offenses, compared to the total number of offenses every year, using bar char. \n",
    "\n",
    "df_percentage_New.plot(kind='bar',x='Year', y='Percentage_of_theft', figsize=(15,7))\n",
    "plt.xlabel('Year', fontweight='bold', color = 'orange', fontsize='15')\n",
    "plt.ylabel('Percentage_of_theft', fontweight='bold', color = 'orange', fontsize='17') "
   ]
  },
  {
   "cell_type": "code",
   "execution_count": 27,
   "metadata": {},
   "outputs": [
    {
     "data": {
      "text/plain": [
       "(0, 60)"
      ]
     },
     "execution_count": 27,
     "metadata": {},
     "output_type": "execute_result"
    },
    {
     "data": {
      "image/png": "[encoded data removed]",
      "text/plain": [
       "<Figure size 1080x504 with 1 Axes>"
      ]
     },
     "metadata": {
      "needs_background": "light"
     },
     "output_type": "display_data"
    }
   ],
   "source": [
    "# Plot the last five years, the percentage of theft-related offenses, compared to the total number of offenses every year, using scatter ploy\n",
    "\n",
    "# last five years\n",
    "\n",
    "df_percentage_New.tail().plot(kind='scatter',x='Year', y='Percentage_of_theft', figsize=(15,7))\n",
    "plt.xlabel('Year', fontweight='bold', color = 'orange', fontsize='17')\n",
    "plt.ylabel('Percentage_of_theft', fontweight='bold', color = 'orange', fontsize='17')\n",
    "plt.ylim(0,60)\n"
   ]
  },
  {
   "cell_type": "code",
   "execution_count": 28,
   "metadata": {},
   "outputs": [],
   "source": [
    "# Observation: The variation in percentage for the last five years is almost linear."
   ]
  },
  {
   "cell_type": "markdown",
   "metadata": {},
   "source": [
    "#### My hypothesis#1 comes out true, as Theft and related offenses are all above 30% of the total offense."
   ]
  },
  {
   "cell_type": "markdown",
   "metadata": {},
   "source": [
    "### Hypothesis#2: A decrease of about 1% of the total offenses in the last years."
   ]
  },
  {
   "cell_type": "code",
   "execution_count": 29,
   "metadata": {},
   "outputs": [
    {
     "data": {
      "text/html": [
       "<div>\n",
       "<style scoped>\n",
       "    .dataframe tbody tr th:only-of-type {\n",
       "        vertical-align: middle;\n",
       "    }\n",
       "\n",
       "    .dataframe tbody tr th {\n",
       "        vertical-align: top;\n",
       "    }\n",
       "\n",
       "    .dataframe thead th {\n",
       "        text-align: right;\n",
       "    }\n",
       "</style>\n",
       "<table border=\"1\" class=\"dataframe\">\n",
       "  <thead>\n",
       "    <tr style=\"text-align: right;\">\n",
       "      <th></th>\n",
       "      <th>State_abbr</th>\n",
       "      <th>Location</th>\n",
       "      <th>Number_of_offence</th>\n",
       "      <th>Offence</th>\n",
       "      <th>Year</th>\n",
       "      <th>Month</th>\n",
       "      <th>Recorded</th>\n",
       "      <th>Resolved</th>\n",
       "    </tr>\n",
       "  </thead>\n",
       "  <tbody>\n",
       "    <tr>\n",
       "      <th>15</th>\n",
       "      <td>ZZ</td>\n",
       "      <td>Total New Zealand</td>\n",
       "      <td>Z</td>\n",
       "      <td>Total Offences</td>\n",
       "      <td>2010</td>\n",
       "      <td>30 June</td>\n",
       "      <td>441960</td>\n",
       "      <td>212561</td>\n",
       "    </tr>\n",
       "    <tr>\n",
       "      <th>16</th>\n",
       "      <td>ZZ</td>\n",
       "      <td>Total New Zealand</td>\n",
       "      <td>Z</td>\n",
       "      <td>Total Offences</td>\n",
       "      <td>2011</td>\n",
       "      <td>30 June</td>\n",
       "      <td>416324</td>\n",
       "      <td>196819</td>\n",
       "    </tr>\n",
       "    <tr>\n",
       "      <th>17</th>\n",
       "      <td>ZZ</td>\n",
       "      <td>Total New Zealand</td>\n",
       "      <td>Z</td>\n",
       "      <td>Total Offences</td>\n",
       "      <td>2012</td>\n",
       "      <td>30 June</td>\n",
       "      <td>394522</td>\n",
       "      <td>187748</td>\n",
       "    </tr>\n",
       "    <tr>\n",
       "      <th>18</th>\n",
       "      <td>ZZ</td>\n",
       "      <td>Total New Zealand</td>\n",
       "      <td>Z</td>\n",
       "      <td>Total Offences</td>\n",
       "      <td>2013</td>\n",
       "      <td>30 June</td>\n",
       "      <td>365185</td>\n",
       "      <td>170377</td>\n",
       "    </tr>\n",
       "    <tr>\n",
       "      <th>19</th>\n",
       "      <td>ZZ</td>\n",
       "      <td>Total New Zealand</td>\n",
       "      <td>Z</td>\n",
       "      <td>Total Offences</td>\n",
       "      <td>2014</td>\n",
       "      <td>30 June</td>\n",
       "      <td>353564</td>\n",
       "      <td>149392</td>\n",
       "    </tr>\n",
       "  </tbody>\n",
       "</table>\n",
       "</div>"
      ],
      "text/plain": [
       "   State_abbr           Location Number_of_offence         Offence  Year  \\\n",
       "15         ZZ  Total New Zealand                 Z  Total Offences  2010   \n",
       "16         ZZ  Total New Zealand                 Z  Total Offences  2011   \n",
       "17         ZZ  Total New Zealand                 Z  Total Offences  2012   \n",
       "18         ZZ  Total New Zealand                 Z  Total Offences  2013   \n",
       "19         ZZ  Total New Zealand                 Z  Total Offences  2014   \n",
       "\n",
       "      Month  Recorded  Resolved  \n",
       "15  30 June    441960    212561  \n",
       "16  30 June    416324    196819  \n",
       "17  30 June    394522    187748  \n",
       "18  30 June    365185    170377  \n",
       "19  30 June    353564    149392  "
      ]
     },
     "execution_count": 29,
     "metadata": {},
     "output_type": "execute_result"
    }
   ],
   "source": [
    "# For this hypothesis I will use the yearly dataframe for total offenses. And focus on the last five years.\n",
    "\n",
    "df_total_offenses_yearly.tail()"
   ]
  },
  {
   "cell_type": "code",
   "execution_count": 30,
   "metadata": {},
   "outputs": [
    {
     "data": {
      "text/plain": [
       "[(2011, 5.8), (2012, 5.24), (2013, 7.44), (2014, 3.18)]"
      ]
     },
     "execution_count": 30,
     "metadata": {},
     "output_type": "execute_result"
    }
   ],
   "source": [
    "# Tuples of %Variation of offenses per year compare to the previous year.\n",
    "\n",
    "list_of_variation_2=[]\n",
    "for i in range(15,19):\n",
    "    year_before = df_total_offenses_yearly['Recorded'][i]\n",
    "    year_after = df_total_offenses_yearly['Recorded'][i+1]\n",
    "    var= round((((year_before)-(year_after))/year_before)*100,2)\n",
    "    tuples_var=(df_total_offenses_yearly['Year'][i+1], var)\n",
    "    list_of_variation_2.append(tuples_var)\n",
    "    \n",
    "list_of_variation_2  "
   ]
  },
  {
   "cell_type": "code",
   "execution_count": 31,
   "metadata": {},
   "outputs": [
    {
     "data": {
      "image/png": "[encoded data removed]",
      "text/plain": [
       "<Figure size 864x504 with 1 Axes>"
      ]
     },
     "metadata": {
      "needs_background": "light"
     },
     "output_type": "display_data"
    }
   ],
   "source": [
    "# Plot the percentage of reduction of the yearly total offense, using bar char\n",
    "\n",
    "x_val = [x[0] for x in list_of_variation_2]\n",
    "y_val = [x[1] for x in list_of_variation_2]\n",
    "\n",
    "plt.figure(figsize=(12,7))\n",
    "plt.bar(x_val,height =y_val , align='center' )\n",
    "plt.xticks(x_val) \n",
    "plt.xlabel('Year', fontweight='bold', color = 'orange', fontsize='15')\n",
    "plt.ylabel('%Variation of offenses', fontweight='bold', color = 'orange', fontsize='15')\n",
    "plt.show()"
   ]
  },
  {
   "cell_type": "code",
   "execution_count": 32,
   "metadata": {},
   "outputs": [
    {
     "data": {
      "image/png": "[encoded data removed]",
      "text/plain": [
       "<Figure size 864x360 with 1 Axes>"
      ]
     },
     "metadata": {
      "needs_background": "light"
     },
     "output_type": "display_data"
    }
   ],
   "source": [
    "# Plot the percentage of reduction of the yearly total offense, using scatter plot.\n",
    "\n",
    "#https://stackoverflow.com/questions/18458734/how-do-i-plot-list-of-tuples-in-python\n",
    "\n",
    "x_val = [x[0] for x in list_of_variation_2]\n",
    "y_val = [x[1] for x in list_of_variation_2]\n",
    "\n",
    "plt.figure(figsize=(12,5))\n",
    "plt.plot(x_val,y_val,'or')\n",
    "plt.xlabel('Year', fontweight='bold', color = 'orange', fontsize='15')\n",
    "plt.ylabel('% of variation of total offences', fontweight='bold', color = 'orange', fontsize='15')\n",
    "plt.ylim(0,10)\n",
    "plt.show()\n"
   ]
  },
  {
   "cell_type": "markdown",
   "metadata": {},
   "source": [
    "#### My hypothesis#2 was not verified, the percentage of reduction of the'Total number of offenses' in the past 5 years, is higher than 1% for each year."
   ]
  },
  {
   "cell_type": "code",
   "execution_count": 33,
   "metadata": {},
   "outputs": [
    {
     "data": {
      "image/png": "[encoded data removed]",
      "text/plain": [
       "<Figure size 864x504 with 1 Axes>"
      ]
     },
     "metadata": {
      "needs_background": "light"
     },
     "output_type": "display_data"
    }
   ],
   "source": [
    "#Plot the first fifteen years\n",
    "\n",
    "list_of_variation_3=[]\n",
    "for i in range(0,15):\n",
    "    year_before = df_total_offenses_yearly['Recorded'][i]\n",
    "    year_after = df_total_offenses_yearly['Recorded'][i+1]\n",
    "    var= round((((year_before)-(year_after))/year_before)*100,2)\n",
    "    tuples_var=(df_total_offenses_yearly['Year'][i+1], var)\n",
    "    list_of_variation_3.append(tuples_var)\n",
    "    \n",
    "list_of_variation_3 \n",
    "\n",
    "x_val = [x[0] for x in list_of_variation_3]\n",
    "y_val = [x[1] for x in list_of_variation_3]\n",
    "\n",
    "plt.figure(figsize=(12,7))\n",
    "plt.bar(x_val,height =y_val , align='center' )\n",
    "plt.xticks(x_val) \n",
    "plt.xlabel('Year', fontweight='bold', color = 'orange', fontsize='14')\n",
    "plt.ylabel('%Variation of offenses', fontweight='bold', color = 'orange', fontsize='14')\n",
    "plt.show()"
   ]
  },
  {
   "cell_type": "markdown",
   "metadata": {},
   "source": [
    "#### The plot of the variation of offenses per year, for the first fifteen years was not part of my hypotheses. But looking at the data, I notice some significant fluctuations in some years. And I think it is essential to show how many irregularities were found in those previous years. And that they may be some social reasons behind those fluctuations."
   ]
  },
  {
   "cell_type": "code",
   "execution_count": null,
   "metadata": {},
   "outputs": [],
   "source": []
  }
 ],
 "metadata": {
  "kernelspec": {
   "display_name": "Python 3",
   "language": "python",
   "name": "python3"
  },
  "language_info": {
   "codemirror_mode": {
    "name": "ipython",
    "version": 3
   },
   "file_extension": ".py",
   "mimetype": "text/x-python",
   "name": "python",
   "nbconvert_exporter": "python",
   "pygments_lexer": "ipython3",
   "version": "3.7.3"
  }
 },
 "nbformat": 4,
 "nbformat_minor": 2
}
